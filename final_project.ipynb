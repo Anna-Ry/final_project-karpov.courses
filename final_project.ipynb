{
 "cells": [
  {
   "cell_type": "markdown",
   "metadata": {},
   "source": [
    "# `Финальный проект`\n",
    "Представьте, что вы работаете в компании, которая разрабатывает мобильные игры. К вам пришел менеджер с рядом задач по исследованию нескольких аспектов мобильного приложения:\n",
    "\n",
    "1. В первую очередь, его интересует показатель retention. Напишите функцию для его подсчета.\n",
    "1. Помимо этого, в компании провели A/B тестирование наборов акционных предложений. На основе имеющихся данных определите, какой набор можно считать лучшим и на основе каких метрик стоит принять правильное решение.\n",
    "1. Предложите метрики для оценки результатов последнего прошедшего тематического события в игре."
   ]
  },
  {
   "cell_type": "code",
   "execution_count": 1,
   "metadata": {},
   "outputs": [],
   "source": [
    "import pandas as pd\n",
    "import numpy as np\n",
    "import matplotlib.pyplot as plt\n",
    "import seaborn as sns\n",
    "import scipy.stats as st\n",
    "from scipy.stats import norm\n",
    "import math as mth\n",
    "from statsmodels.stats.proportion import proportions_ztest, proportion_confint\n",
    "plt.style.use('seaborn-whitegrid') \n",
    "import warnings\n",
    "warnings.filterwarnings(\"ignore\")"
   ]
  },
  {
   "cell_type": "markdown",
   "metadata": {},
   "source": [
    "## Задание 1\n",
    "Retention – один из самых важных показателей в компании. Ваша задача – написать функцию, которая будет считать retention игроков (по дням от даты регистрации игрока). Данные лежат в папке shared и имеют следующую структуру:\n",
    "\n",
    "shared/problem1-reg_data.csv – данные о времени регистрации\n",
    "\n",
    "shared/problem1-auth_data.csv – данные о времени захода пользователей в игру\n",
    "\n",
    "Функция должна быть написана на python. В ходе решения можно тестировать работу функции как на полном датасете, так и на части (сэмпле) данных."
   ]
  },
  {
   "cell_type": "markdown",
   "metadata": {},
   "source": [
    "Функции на вход подаются:\n",
    "   1. **auth_data_path**: str путь к файлу о времени захода пользователей в игру\n",
    "   1. **reg_data_path**:  str путь к файлу о времени регистрации,\n",
    "   1. **min_date=None**:  str минимальная дата - начало периода расчета retention, \n",
    "   1. **max_date=None**:  str максимальная дата - конец периода расчета retention\n",
    "   \n",
    "Функция возвращает таблицу, строки которой - даты рождения когорт, столбцы - дни жизни когорт, значения - retention в % "
   ]
  },
  {
   "cell_type": "code",
   "execution_count": 2,
   "metadata": {},
   "outputs": [],
   "source": [
    "def retention_rate(auth_data_path,reg_data_path, min_date=None,max_date=None):\n",
    "    # данные о времени захода пользователей в игру\n",
    "    auth_data = pd.read_csv(auth_data_path, sep=';')\n",
    "    # данные о времени регистрации\n",
    "    reg_data = pd.read_csv(reg_data_path, sep=';')\n",
    "    # перевод даты из UNIXTIME\n",
    "    auth_data['auth_ts'] = pd.to_datetime(auth_data['auth_ts'],unit='s')\n",
    "    reg_data['reg_ts'] = pd.to_datetime(reg_data['reg_ts'],unit='s')\n",
    "    \n",
    "    # Приводим дату к формату год-месяц-день (без времени)\n",
    "    reg_data['reg_ts'] = pd.to_datetime(reg_data['reg_ts'].dt.date)\n",
    "    auth_data['auth_ts'] = pd.to_datetime(auth_data['auth_ts'].dt.date)\n",
    "    \n",
    "    df = reg_data.merge(auth_data, on='uid')\n",
    "    \n",
    "    if min_date==None:\n",
    "        min_date = reg_data['reg_ts'].min()\n",
    "    if max_date==None:\n",
    "        max_date = reg_data['reg_ts'].max() \n",
    "    \n",
    "    df = df[(df['reg_ts'] >= min_date) & (df['reg_ts'] <= max_date)] \n",
    "    \n",
    "    # Найдем lifetime - возраст когорты\n",
    "    df['lifetime'] = ((df['auth_ts'] - df['reg_ts']) / np.timedelta64(1, 'D')).astype('int')\n",
    "    # Найдем размер когорты\n",
    "    cohort_size = reg_data.groupby('reg_ts')['uid'].nunique().reset_index().rename(columns={'uid':'cohort_size'})\n",
    "    \n",
    "    report = (df.groupby(['reg_ts','lifetime'])['uid'].nunique().reset_index()).merge(cohort_size, on='reg_ts')\n",
    "    report['Retention Rate'] = report['uid'] / report['cohort_size']\n",
    "    \n",
    "    report['cohort'] = report['reg_ts'].astype('str')\n",
    "        \n",
    "    report_pivot = report.pivot_table(index='cohort', columns='lifetime', values='Retention Rate')\n",
    "    ur_style = (report_pivot\n",
    "            .style\n",
    "            .set_caption('User retention by cohort')  \n",
    "            .background_gradient(cmap='viridis')  \n",
    "            .highlight_null('white')  \n",
    "            .format(\"{:.2%}\", na_rep=\"\"))  \n",
    "\n",
    "    return ur_style"
   ]
  },
  {
   "cell_type": "code",
   "execution_count": 3,
   "metadata": {},
   "outputs": [
    {
     "data": {
      "text/html": [
       "<style  type=\"text/css\" >\n",
       "#T_ff78a_row0_col0,#T_ff78a_row0_col13,#T_ff78a_row1_col0,#T_ff78a_row1_col12,#T_ff78a_row2_col0,#T_ff78a_row2_col11,#T_ff78a_row3_col0,#T_ff78a_row3_col10,#T_ff78a_row4_col0,#T_ff78a_row4_col9,#T_ff78a_row5_col0,#T_ff78a_row5_col8,#T_ff78a_row6_col0,#T_ff78a_row6_col7,#T_ff78a_row7_col0,#T_ff78a_row7_col6,#T_ff78a_row8_col0,#T_ff78a_row8_col5,#T_ff78a_row9_col0,#T_ff78a_row9_col4,#T_ff78a_row10_col0,#T_ff78a_row10_col3,#T_ff78a_row11_col0,#T_ff78a_row11_col2,#T_ff78a_row12_col0,#T_ff78a_row12_col1,#T_ff78a_row13_col0{\n",
       "            background-color:  #440154;\n",
       "            color:  #f1f1f1;\n",
       "        }#T_ff78a_row0_col1{\n",
       "            background-color:  #5ec962;\n",
       "            color:  #000000;\n",
       "        }#T_ff78a_row0_col2{\n",
       "            background-color:  #93d741;\n",
       "            color:  #000000;\n",
       "        }#T_ff78a_row0_col3,#T_ff78a_row0_col5,#T_ff78a_row0_col7,#T_ff78a_row0_col12,#T_ff78a_row1_col11,#T_ff78a_row2_col8,#T_ff78a_row2_col9,#T_ff78a_row2_col10,#T_ff78a_row4_col6,#T_ff78a_row5_col4,#T_ff78a_row6_col5,#T_ff78a_row8_col2,#T_ff78a_row10_col1{\n",
       "            background-color:  #fde725;\n",
       "            color:  #000000;\n",
       "        }#T_ff78a_row0_col4{\n",
       "            background-color:  #365d8d;\n",
       "            color:  #f1f1f1;\n",
       "        }#T_ff78a_row0_col6{\n",
       "            background-color:  #5ac864;\n",
       "            color:  #000000;\n",
       "        }#T_ff78a_row0_col8,#T_ff78a_row2_col6{\n",
       "            background-color:  #9bd93c;\n",
       "            color:  #000000;\n",
       "        }#T_ff78a_row0_col9{\n",
       "            background-color:  #52c569;\n",
       "            color:  #000000;\n",
       "        }#T_ff78a_row0_col10{\n",
       "            background-color:  #f1e51d;\n",
       "            color:  #000000;\n",
       "        }#T_ff78a_row0_col11,#T_ff78a_row1_col9{\n",
       "            background-color:  #6ece58;\n",
       "            color:  #000000;\n",
       "        }#T_ff78a_row1_col1{\n",
       "            background-color:  #375b8d;\n",
       "            color:  #f1f1f1;\n",
       "        }#T_ff78a_row1_col2{\n",
       "            background-color:  #38b977;\n",
       "            color:  #000000;\n",
       "        }#T_ff78a_row1_col3{\n",
       "            background-color:  #b8de29;\n",
       "            color:  #000000;\n",
       "        }#T_ff78a_row1_col4,#T_ff78a_row7_col2{\n",
       "            background-color:  #98d83e;\n",
       "            color:  #000000;\n",
       "        }#T_ff78a_row1_col5{\n",
       "            background-color:  #2eb37c;\n",
       "            color:  #000000;\n",
       "        }#T_ff78a_row1_col6{\n",
       "            background-color:  #bade28;\n",
       "            color:  #000000;\n",
       "        }#T_ff78a_row1_col7,#T_ff78a_row3_col8{\n",
       "            background-color:  #77d153;\n",
       "            color:  #000000;\n",
       "        }#T_ff78a_row1_col8,#T_ff78a_row5_col2{\n",
       "            background-color:  #40bd72;\n",
       "            color:  #000000;\n",
       "        }#T_ff78a_row1_col10,#T_ff78a_row5_col1{\n",
       "            background-color:  #a0da39;\n",
       "            color:  #000000;\n",
       "        }#T_ff78a_row1_col13,#T_ff78a_row2_col13,#T_ff78a_row3_col13,#T_ff78a_row4_col13,#T_ff78a_row5_col13,#T_ff78a_row6_col13,#T_ff78a_row7_col13,#T_ff78a_row8_col13,#T_ff78a_row9_col13,#T_ff78a_row10_col13,#T_ff78a_row11_col13,#T_ff78a_row12_col13,#T_ff78a_row13_col13{\n",
       "            background-color:  #440154;\n",
       "            color:  #f1f1f1;\n",
       "            background-color:  white;\n",
       "        }#T_ff78a_row2_col1{\n",
       "            background-color:  #37b878;\n",
       "            color:  #000000;\n",
       "        }#T_ff78a_row2_col2{\n",
       "            background-color:  #1e9c89;\n",
       "            color:  #000000;\n",
       "        }#T_ff78a_row2_col3{\n",
       "            background-color:  #eae51a;\n",
       "            color:  #000000;\n",
       "        }#T_ff78a_row2_col4{\n",
       "            background-color:  #25858e;\n",
       "            color:  #000000;\n",
       "        }#T_ff78a_row2_col5{\n",
       "            background-color:  #67cc5c;\n",
       "            color:  #000000;\n",
       "        }#T_ff78a_row2_col7,#T_ff78a_row3_col4{\n",
       "            background-color:  #2db27d;\n",
       "            color:  #000000;\n",
       "        }#T_ff78a_row2_col12,#T_ff78a_row3_col11,#T_ff78a_row3_col12,#T_ff78a_row4_col10,#T_ff78a_row4_col11,#T_ff78a_row4_col12,#T_ff78a_row5_col9,#T_ff78a_row5_col10,#T_ff78a_row5_col11,#T_ff78a_row5_col12,#T_ff78a_row6_col8,#T_ff78a_row6_col9,#T_ff78a_row6_col10,#T_ff78a_row6_col11,#T_ff78a_row6_col12,#T_ff78a_row7_col7,#T_ff78a_row7_col8,#T_ff78a_row7_col9,#T_ff78a_row7_col10,#T_ff78a_row7_col11,#T_ff78a_row7_col12,#T_ff78a_row8_col6,#T_ff78a_row8_col7,#T_ff78a_row8_col8,#T_ff78a_row8_col9,#T_ff78a_row8_col10,#T_ff78a_row8_col11,#T_ff78a_row8_col12,#T_ff78a_row9_col5,#T_ff78a_row9_col6,#T_ff78a_row9_col7,#T_ff78a_row9_col8,#T_ff78a_row9_col9,#T_ff78a_row9_col10,#T_ff78a_row9_col11,#T_ff78a_row9_col12,#T_ff78a_row10_col4,#T_ff78a_row10_col5,#T_ff78a_row10_col6,#T_ff78a_row10_col7,#T_ff78a_row10_col8,#T_ff78a_row10_col9,#T_ff78a_row10_col10,#T_ff78a_row10_col11,#T_ff78a_row10_col12,#T_ff78a_row11_col3,#T_ff78a_row11_col4,#T_ff78a_row11_col5,#T_ff78a_row11_col6,#T_ff78a_row11_col7,#T_ff78a_row11_col8,#T_ff78a_row11_col9,#T_ff78a_row11_col10,#T_ff78a_row11_col11,#T_ff78a_row11_col12,#T_ff78a_row12_col2,#T_ff78a_row12_col3,#T_ff78a_row12_col4,#T_ff78a_row12_col5,#T_ff78a_row12_col6,#T_ff78a_row12_col7,#T_ff78a_row12_col8,#T_ff78a_row12_col9,#T_ff78a_row12_col10,#T_ff78a_row12_col11,#T_ff78a_row12_col12,#T_ff78a_row13_col1,#T_ff78a_row13_col2,#T_ff78a_row13_col3,#T_ff78a_row13_col4,#T_ff78a_row13_col5,#T_ff78a_row13_col6,#T_ff78a_row13_col7,#T_ff78a_row13_col8,#T_ff78a_row13_col9,#T_ff78a_row13_col10,#T_ff78a_row13_col11,#T_ff78a_row13_col12{\n",
       "            background-color:  #000000;\n",
       "            color:  #f1f1f1;\n",
       "            background-color:  white;\n",
       "        }#T_ff78a_row3_col1{\n",
       "            background-color:  #46c06f;\n",
       "            color:  #000000;\n",
       "        }#T_ff78a_row3_col2{\n",
       "            background-color:  #44bf70;\n",
       "            color:  #000000;\n",
       "        }#T_ff78a_row3_col3{\n",
       "            background-color:  #70cf57;\n",
       "            color:  #000000;\n",
       "        }#T_ff78a_row3_col5,#T_ff78a_row6_col3{\n",
       "            background-color:  #d0e11c;\n",
       "            color:  #000000;\n",
       "        }#T_ff78a_row3_col6{\n",
       "            background-color:  #89d548;\n",
       "            color:  #000000;\n",
       "        }#T_ff78a_row3_col7{\n",
       "            background-color:  #287d8e;\n",
       "            color:  #000000;\n",
       "        }#T_ff78a_row3_col9{\n",
       "            background-color:  #c5e021;\n",
       "            color:  #000000;\n",
       "        }#T_ff78a_row4_col1{\n",
       "            background-color:  #a2da37;\n",
       "            color:  #000000;\n",
       "        }#T_ff78a_row4_col2{\n",
       "            background-color:  #1f9a8a;\n",
       "            color:  #000000;\n",
       "        }#T_ff78a_row4_col3{\n",
       "            background-color:  #b2dd2d;\n",
       "            color:  #000000;\n",
       "        }#T_ff78a_row4_col4{\n",
       "            background-color:  #4cc26c;\n",
       "            color:  #000000;\n",
       "        }#T_ff78a_row4_col5,#T_ff78a_row5_col3{\n",
       "            background-color:  #c0df25;\n",
       "            color:  #000000;\n",
       "        }#T_ff78a_row4_col7{\n",
       "            background-color:  #73d056;\n",
       "            color:  #000000;\n",
       "        }#T_ff78a_row4_col8{\n",
       "            background-color:  #48c16e;\n",
       "            color:  #000000;\n",
       "        }#T_ff78a_row5_col5,#T_ff78a_row5_col7{\n",
       "            background-color:  #25ac82;\n",
       "            color:  #000000;\n",
       "        }#T_ff78a_row5_col6,#T_ff78a_row9_col3{\n",
       "            background-color:  #ece51b;\n",
       "            color:  #000000;\n",
       "        }#T_ff78a_row6_col1{\n",
       "            background-color:  #34b679;\n",
       "            color:  #000000;\n",
       "        }#T_ff78a_row6_col2{\n",
       "            background-color:  #81d34d;\n",
       "            color:  #000000;\n",
       "        }#T_ff78a_row6_col4{\n",
       "            background-color:  #23888e;\n",
       "            color:  #000000;\n",
       "        }#T_ff78a_row6_col6{\n",
       "            background-color:  #f8e621;\n",
       "            color:  #000000;\n",
       "        }#T_ff78a_row7_col1{\n",
       "            background-color:  #20928c;\n",
       "            color:  #000000;\n",
       "        }#T_ff78a_row7_col3{\n",
       "            background-color:  #bddf26;\n",
       "            color:  #000000;\n",
       "        }#T_ff78a_row7_col4{\n",
       "            background-color:  #6ccd5a;\n",
       "            color:  #000000;\n",
       "        }#T_ff78a_row7_col5{\n",
       "            background-color:  #90d743;\n",
       "            color:  #000000;\n",
       "        }#T_ff78a_row8_col1{\n",
       "            background-color:  #32b67a;\n",
       "            color:  #000000;\n",
       "        }#T_ff78a_row8_col3{\n",
       "            background-color:  #69cd5b;\n",
       "            color:  #000000;\n",
       "        }#T_ff78a_row8_col4{\n",
       "            background-color:  #3aba76;\n",
       "            color:  #000000;\n",
       "        }#T_ff78a_row9_col1{\n",
       "            background-color:  #26ad81;\n",
       "            color:  #000000;\n",
       "        }#T_ff78a_row9_col2{\n",
       "            background-color:  #2e6f8e;\n",
       "            color:  #f1f1f1;\n",
       "        }#T_ff78a_row10_col2{\n",
       "            background-color:  #a8db34;\n",
       "            color:  #000000;\n",
       "        }#T_ff78a_row11_col1{\n",
       "            background-color:  #31b57b;\n",
       "            color:  #000000;\n",
       "        }</style><table id=\"T_ff78a_\" ><caption>User retention by cohort</caption><thead>    <tr>        <th class=\"index_name level0\" >lifetime</th>        <th class=\"col_heading level0 col0\" >0</th>        <th class=\"col_heading level0 col1\" >1</th>        <th class=\"col_heading level0 col2\" >2</th>        <th class=\"col_heading level0 col3\" >3</th>        <th class=\"col_heading level0 col4\" >4</th>        <th class=\"col_heading level0 col5\" >5</th>        <th class=\"col_heading level0 col6\" >6</th>        <th class=\"col_heading level0 col7\" >7</th>        <th class=\"col_heading level0 col8\" >8</th>        <th class=\"col_heading level0 col9\" >9</th>        <th class=\"col_heading level0 col10\" >10</th>        <th class=\"col_heading level0 col11\" >11</th>        <th class=\"col_heading level0 col12\" >12</th>        <th class=\"col_heading level0 col13\" >13</th>    </tr>    <tr>        <th class=\"index_name level0\" >cohort</th>        <th class=\"blank\" ></th>        <th class=\"blank\" ></th>        <th class=\"blank\" ></th>        <th class=\"blank\" ></th>        <th class=\"blank\" ></th>        <th class=\"blank\" ></th>        <th class=\"blank\" ></th>        <th class=\"blank\" ></th>        <th class=\"blank\" ></th>        <th class=\"blank\" ></th>        <th class=\"blank\" ></th>        <th class=\"blank\" ></th>        <th class=\"blank\" ></th>        <th class=\"blank\" ></th>    </tr></thead><tbody>\n",
       "                <tr>\n",
       "                        <th id=\"T_ff78a_level0_row0\" class=\"row_heading level0 row0\" >2020-09-10</th>\n",
       "                        <td id=\"T_ff78a_row0_col0\" class=\"data row0 col0\" >100.00%</td>\n",
       "                        <td id=\"T_ff78a_row0_col1\" class=\"data row0 col1\" >2.05%</td>\n",
       "                        <td id=\"T_ff78a_row0_col2\" class=\"data row0 col2\" >4.29%</td>\n",
       "                        <td id=\"T_ff78a_row0_col3\" class=\"data row0 col3\" >4.79%</td>\n",
       "                        <td id=\"T_ff78a_row0_col4\" class=\"data row0 col4\" >4.23%</td>\n",
       "                        <td id=\"T_ff78a_row0_col5\" class=\"data row0 col5\" >6.77%</td>\n",
       "                        <td id=\"T_ff78a_row0_col6\" class=\"data row0 col6\" >6.28%</td>\n",
       "                        <td id=\"T_ff78a_row0_col7\" class=\"data row0 col7\" >7.09%</td>\n",
       "                        <td id=\"T_ff78a_row0_col8\" class=\"data row0 col8\" >4.85%</td>\n",
       "                        <td id=\"T_ff78a_row0_col9\" class=\"data row0 col9\" >4.54%</td>\n",
       "                        <td id=\"T_ff78a_row0_col10\" class=\"data row0 col10\" >5.66%</td>\n",
       "                        <td id=\"T_ff78a_row0_col11\" class=\"data row0 col11\" >4.72%</td>\n",
       "                        <td id=\"T_ff78a_row0_col12\" class=\"data row0 col12\" >5.22%</td>\n",
       "                        <td id=\"T_ff78a_row0_col13\" class=\"data row0 col13\" >3.60%</td>\n",
       "            </tr>\n",
       "            <tr>\n",
       "                        <th id=\"T_ff78a_level0_row1\" class=\"row_heading level0 row1\" >2020-09-11</th>\n",
       "                        <td id=\"T_ff78a_row1_col0\" class=\"data row1 col0\" >100.00%</td>\n",
       "                        <td id=\"T_ff78a_row1_col1\" class=\"data row1 col1\" >1.30%</td>\n",
       "                        <td id=\"T_ff78a_row1_col2\" class=\"data row1 col2\" >4.03%</td>\n",
       "                        <td id=\"T_ff78a_row1_col3\" class=\"data row1 col3\" >4.53%</td>\n",
       "                        <td id=\"T_ff78a_row1_col4\" class=\"data row1 col4\" >5.65%</td>\n",
       "                        <td id=\"T_ff78a_row1_col5\" class=\"data row1 col5\" >5.71%</td>\n",
       "                        <td id=\"T_ff78a_row1_col6\" class=\"data row1 col6\" >6.70%</td>\n",
       "                        <td id=\"T_ff78a_row1_col7\" class=\"data row1 col7\" >6.33%</td>\n",
       "                        <td id=\"T_ff78a_row1_col8\" class=\"data row1 col8\" >4.40%</td>\n",
       "                        <td id=\"T_ff78a_row1_col9\" class=\"data row1 col9\" >4.65%</td>\n",
       "                        <td id=\"T_ff78a_row1_col10\" class=\"data row1 col10\" >5.40%</td>\n",
       "                        <td id=\"T_ff78a_row1_col11\" class=\"data row1 col11\" >5.33%</td>\n",
       "                        <td id=\"T_ff78a_row1_col12\" class=\"data row1 col12\" >3.29%</td>\n",
       "                        <td id=\"T_ff78a_row1_col13\" class=\"data row1 col13\" ></td>\n",
       "            </tr>\n",
       "            <tr>\n",
       "                        <th id=\"T_ff78a_level0_row2\" class=\"row_heading level0 row2\" >2020-09-12</th>\n",
       "                        <td id=\"T_ff78a_row2_col0\" class=\"data row2 col0\" >100.00%</td>\n",
       "                        <td id=\"T_ff78a_row2_col1\" class=\"data row2 col1\" >1.92%</td>\n",
       "                        <td id=\"T_ff78a_row2_col2\" class=\"data row2 col2\" >3.84%</td>\n",
       "                        <td id=\"T_ff78a_row2_col3\" class=\"data row2 col3\" >4.71%</td>\n",
       "                        <td id=\"T_ff78a_row2_col4\" class=\"data row2 col4\" >4.65%</td>\n",
       "                        <td id=\"T_ff78a_row2_col5\" class=\"data row2 col5\" >6.07%</td>\n",
       "                        <td id=\"T_ff78a_row2_col6\" class=\"data row2 col6\" >6.57%</td>\n",
       "                        <td id=\"T_ff78a_row2_col7\" class=\"data row2 col7\" >5.76%</td>\n",
       "                        <td id=\"T_ff78a_row2_col8\" class=\"data row2 col8\" >5.27%</td>\n",
       "                        <td id=\"T_ff78a_row2_col9\" class=\"data row2 col9\" >5.14%</td>\n",
       "                        <td id=\"T_ff78a_row2_col10\" class=\"data row2 col10\" >5.70%</td>\n",
       "                        <td id=\"T_ff78a_row2_col11\" class=\"data row2 col11\" >2.54%</td>\n",
       "                        <td id=\"T_ff78a_row2_col12\" class=\"data row2 col12\" ></td>\n",
       "                        <td id=\"T_ff78a_row2_col13\" class=\"data row2 col13\" ></td>\n",
       "            </tr>\n",
       "            <tr>\n",
       "                        <th id=\"T_ff78a_level0_row3\" class=\"row_heading level0 row3\" >2020-09-13</th>\n",
       "                        <td id=\"T_ff78a_row3_col0\" class=\"data row3 col0\" >100.00%</td>\n",
       "                        <td id=\"T_ff78a_row3_col1\" class=\"data row3 col1\" >1.98%</td>\n",
       "                        <td id=\"T_ff78a_row3_col2\" class=\"data row3 col2\" >4.08%</td>\n",
       "                        <td id=\"T_ff78a_row3_col3\" class=\"data row3 col3\" >4.26%</td>\n",
       "                        <td id=\"T_ff78a_row3_col4\" class=\"data row3 col4\" >5.13%</td>\n",
       "                        <td id=\"T_ff78a_row3_col5\" class=\"data row3 col5\" >6.55%</td>\n",
       "                        <td id=\"T_ff78a_row3_col6\" class=\"data row3 col6\" >6.49%</td>\n",
       "                        <td id=\"T_ff78a_row3_col7\" class=\"data row3 col7\" >4.94%</td>\n",
       "                        <td id=\"T_ff78a_row3_col8\" class=\"data row3 col8\" >4.70%</td>\n",
       "                        <td id=\"T_ff78a_row3_col9\" class=\"data row3 col9\" >4.94%</td>\n",
       "                        <td id=\"T_ff78a_row3_col10\" class=\"data row3 col10\" >3.58%</td>\n",
       "                        <td id=\"T_ff78a_row3_col11\" class=\"data row3 col11\" ></td>\n",
       "                        <td id=\"T_ff78a_row3_col12\" class=\"data row3 col12\" ></td>\n",
       "                        <td id=\"T_ff78a_row3_col13\" class=\"data row3 col13\" ></td>\n",
       "            </tr>\n",
       "            <tr>\n",
       "                        <th id=\"T_ff78a_level0_row4\" class=\"row_heading level0 row4\" >2020-09-14</th>\n",
       "                        <td id=\"T_ff78a_row4_col0\" class=\"data row4 col0\" >100.00%</td>\n",
       "                        <td id=\"T_ff78a_row4_col1\" class=\"data row4 col1\" >2.22%</td>\n",
       "                        <td id=\"T_ff78a_row4_col2\" class=\"data row4 col2\" >3.83%</td>\n",
       "                        <td id=\"T_ff78a_row4_col3\" class=\"data row4 col3\" >4.51%</td>\n",
       "                        <td id=\"T_ff78a_row4_col4\" class=\"data row4 col4\" >5.31%</td>\n",
       "                        <td id=\"T_ff78a_row4_col5\" class=\"data row4 col5\" >6.49%</td>\n",
       "                        <td id=\"T_ff78a_row4_col6\" class=\"data row4 col6\" >6.98%</td>\n",
       "                        <td id=\"T_ff78a_row4_col7\" class=\"data row4 col7\" >6.30%</td>\n",
       "                        <td id=\"T_ff78a_row4_col8\" class=\"data row4 col8\" >4.45%</td>\n",
       "                        <td id=\"T_ff78a_row4_col9\" class=\"data row4 col9\" >2.90%</td>\n",
       "                        <td id=\"T_ff78a_row4_col10\" class=\"data row4 col10\" ></td>\n",
       "                        <td id=\"T_ff78a_row4_col11\" class=\"data row4 col11\" ></td>\n",
       "                        <td id=\"T_ff78a_row4_col12\" class=\"data row4 col12\" ></td>\n",
       "                        <td id=\"T_ff78a_row4_col13\" class=\"data row4 col13\" ></td>\n",
       "            </tr>\n",
       "            <tr>\n",
       "                        <th id=\"T_ff78a_level0_row5\" class=\"row_heading level0 row5\" >2020-09-15</th>\n",
       "                        <td id=\"T_ff78a_row5_col0\" class=\"data row5 col0\" >100.00%</td>\n",
       "                        <td id=\"T_ff78a_row5_col1\" class=\"data row5 col1\" >2.22%</td>\n",
       "                        <td id=\"T_ff78a_row5_col2\" class=\"data row5 col2\" >4.07%</td>\n",
       "                        <td id=\"T_ff78a_row5_col3\" class=\"data row5 col3\" >4.56%</td>\n",
       "                        <td id=\"T_ff78a_row5_col4\" class=\"data row5 col4\" >6.04%</td>\n",
       "                        <td id=\"T_ff78a_row5_col5\" class=\"data row5 col5\" >5.61%</td>\n",
       "                        <td id=\"T_ff78a_row5_col6\" class=\"data row5 col6\" >6.90%</td>\n",
       "                        <td id=\"T_ff78a_row5_col7\" class=\"data row5 col7\" >5.67%</td>\n",
       "                        <td id=\"T_ff78a_row5_col8\" class=\"data row5 col8\" >2.46%</td>\n",
       "                        <td id=\"T_ff78a_row5_col9\" class=\"data row5 col9\" ></td>\n",
       "                        <td id=\"T_ff78a_row5_col10\" class=\"data row5 col10\" ></td>\n",
       "                        <td id=\"T_ff78a_row5_col11\" class=\"data row5 col11\" ></td>\n",
       "                        <td id=\"T_ff78a_row5_col12\" class=\"data row5 col12\" ></td>\n",
       "                        <td id=\"T_ff78a_row5_col13\" class=\"data row5 col13\" ></td>\n",
       "            </tr>\n",
       "            <tr>\n",
       "                        <th id=\"T_ff78a_level0_row6\" class=\"row_heading level0 row6\" >2020-09-16</th>\n",
       "                        <td id=\"T_ff78a_row6_col0\" class=\"data row6 col0\" >100.00%</td>\n",
       "                        <td id=\"T_ff78a_row6_col1\" class=\"data row6 col1\" >1.91%</td>\n",
       "                        <td id=\"T_ff78a_row6_col2\" class=\"data row6 col2\" >4.25%</td>\n",
       "                        <td id=\"T_ff78a_row6_col3\" class=\"data row6 col3\" >4.62%</td>\n",
       "                        <td id=\"T_ff78a_row6_col4\" class=\"data row6 col4\" >4.68%</td>\n",
       "                        <td id=\"T_ff78a_row6_col5\" class=\"data row6 col5\" >6.77%</td>\n",
       "                        <td id=\"T_ff78a_row6_col6\" class=\"data row6 col6\" >6.95%</td>\n",
       "                        <td id=\"T_ff78a_row6_col7\" class=\"data row6 col7\" >3.38%</td>\n",
       "                        <td id=\"T_ff78a_row6_col8\" class=\"data row6 col8\" ></td>\n",
       "                        <td id=\"T_ff78a_row6_col9\" class=\"data row6 col9\" ></td>\n",
       "                        <td id=\"T_ff78a_row6_col10\" class=\"data row6 col10\" ></td>\n",
       "                        <td id=\"T_ff78a_row6_col11\" class=\"data row6 col11\" ></td>\n",
       "                        <td id=\"T_ff78a_row6_col12\" class=\"data row6 col12\" ></td>\n",
       "                        <td id=\"T_ff78a_row6_col13\" class=\"data row6 col13\" ></td>\n",
       "            </tr>\n",
       "            <tr>\n",
       "                        <th id=\"T_ff78a_level0_row7\" class=\"row_heading level0 row7\" >2020-09-17</th>\n",
       "                        <td id=\"T_ff78a_row7_col0\" class=\"data row7 col0\" >100.00%</td>\n",
       "                        <td id=\"T_ff78a_row7_col1\" class=\"data row7 col1\" >1.66%</td>\n",
       "                        <td id=\"T_ff78a_row7_col2\" class=\"data row7 col2\" >4.30%</td>\n",
       "                        <td id=\"T_ff78a_row7_col3\" class=\"data row7 col3\" >4.55%</td>\n",
       "                        <td id=\"T_ff78a_row7_col4\" class=\"data row7 col4\" >5.47%</td>\n",
       "                        <td id=\"T_ff78a_row7_col5\" class=\"data row7 col5\" >6.27%</td>\n",
       "                        <td id=\"T_ff78a_row7_col6\" class=\"data row7 col6\" >4.24%</td>\n",
       "                        <td id=\"T_ff78a_row7_col7\" class=\"data row7 col7\" ></td>\n",
       "                        <td id=\"T_ff78a_row7_col8\" class=\"data row7 col8\" ></td>\n",
       "                        <td id=\"T_ff78a_row7_col9\" class=\"data row7 col9\" ></td>\n",
       "                        <td id=\"T_ff78a_row7_col10\" class=\"data row7 col10\" ></td>\n",
       "                        <td id=\"T_ff78a_row7_col11\" class=\"data row7 col11\" ></td>\n",
       "                        <td id=\"T_ff78a_row7_col12\" class=\"data row7 col12\" ></td>\n",
       "                        <td id=\"T_ff78a_row7_col13\" class=\"data row7 col13\" ></td>\n",
       "            </tr>\n",
       "            <tr>\n",
       "                        <th id=\"T_ff78a_level0_row8\" class=\"row_heading level0 row8\" >2020-09-18</th>\n",
       "                        <td id=\"T_ff78a_row8_col0\" class=\"data row8 col0\" >100.00%</td>\n",
       "                        <td id=\"T_ff78a_row8_col1\" class=\"data row8 col1\" >1.90%</td>\n",
       "                        <td id=\"T_ff78a_row8_col2\" class=\"data row8 col2\" >4.54%</td>\n",
       "                        <td id=\"T_ff78a_row8_col3\" class=\"data row8 col3\" >4.23%</td>\n",
       "                        <td id=\"T_ff78a_row8_col4\" class=\"data row8 col4\" >5.21%</td>\n",
       "                        <td id=\"T_ff78a_row8_col5\" class=\"data row8 col5\" >3.74%</td>\n",
       "                        <td id=\"T_ff78a_row8_col6\" class=\"data row8 col6\" ></td>\n",
       "                        <td id=\"T_ff78a_row8_col7\" class=\"data row8 col7\" ></td>\n",
       "                        <td id=\"T_ff78a_row8_col8\" class=\"data row8 col8\" ></td>\n",
       "                        <td id=\"T_ff78a_row8_col9\" class=\"data row8 col9\" ></td>\n",
       "                        <td id=\"T_ff78a_row8_col10\" class=\"data row8 col10\" ></td>\n",
       "                        <td id=\"T_ff78a_row8_col11\" class=\"data row8 col11\" ></td>\n",
       "                        <td id=\"T_ff78a_row8_col12\" class=\"data row8 col12\" ></td>\n",
       "                        <td id=\"T_ff78a_row8_col13\" class=\"data row8 col13\" ></td>\n",
       "            </tr>\n",
       "            <tr>\n",
       "                        <th id=\"T_ff78a_level0_row9\" class=\"row_heading level0 row9\" >2020-09-19</th>\n",
       "                        <td id=\"T_ff78a_row9_col0\" class=\"data row9 col0\" >100.00%</td>\n",
       "                        <td id=\"T_ff78a_row9_col1\" class=\"data row9 col1\" >1.84%</td>\n",
       "                        <td id=\"T_ff78a_row9_col2\" class=\"data row9 col2\" >3.55%</td>\n",
       "                        <td id=\"T_ff78a_row9_col3\" class=\"data row9 col3\" >4.71%</td>\n",
       "                        <td id=\"T_ff78a_row9_col4\" class=\"data row9 col4\" >3.49%</td>\n",
       "                        <td id=\"T_ff78a_row9_col5\" class=\"data row9 col5\" ></td>\n",
       "                        <td id=\"T_ff78a_row9_col6\" class=\"data row9 col6\" ></td>\n",
       "                        <td id=\"T_ff78a_row9_col7\" class=\"data row9 col7\" ></td>\n",
       "                        <td id=\"T_ff78a_row9_col8\" class=\"data row9 col8\" ></td>\n",
       "                        <td id=\"T_ff78a_row9_col9\" class=\"data row9 col9\" ></td>\n",
       "                        <td id=\"T_ff78a_row9_col10\" class=\"data row9 col10\" ></td>\n",
       "                        <td id=\"T_ff78a_row9_col11\" class=\"data row9 col11\" ></td>\n",
       "                        <td id=\"T_ff78a_row9_col12\" class=\"data row9 col12\" ></td>\n",
       "                        <td id=\"T_ff78a_row9_col13\" class=\"data row9 col13\" ></td>\n",
       "            </tr>\n",
       "            <tr>\n",
       "                        <th id=\"T_ff78a_level0_row10\" class=\"row_heading level0 row10\" >2020-09-20</th>\n",
       "                        <td id=\"T_ff78a_row10_col0\" class=\"data row10 col0\" >100.00%</td>\n",
       "                        <td id=\"T_ff78a_row10_col1\" class=\"data row10 col1\" >2.44%</td>\n",
       "                        <td id=\"T_ff78a_row10_col2\" class=\"data row10 col2\" >4.34%</td>\n",
       "                        <td id=\"T_ff78a_row10_col3\" class=\"data row10 col3\" >2.38%</td>\n",
       "                        <td id=\"T_ff78a_row10_col4\" class=\"data row10 col4\" ></td>\n",
       "                        <td id=\"T_ff78a_row10_col5\" class=\"data row10 col5\" ></td>\n",
       "                        <td id=\"T_ff78a_row10_col6\" class=\"data row10 col6\" ></td>\n",
       "                        <td id=\"T_ff78a_row10_col7\" class=\"data row10 col7\" ></td>\n",
       "                        <td id=\"T_ff78a_row10_col8\" class=\"data row10 col8\" ></td>\n",
       "                        <td id=\"T_ff78a_row10_col9\" class=\"data row10 col9\" ></td>\n",
       "                        <td id=\"T_ff78a_row10_col10\" class=\"data row10 col10\" ></td>\n",
       "                        <td id=\"T_ff78a_row10_col11\" class=\"data row10 col11\" ></td>\n",
       "                        <td id=\"T_ff78a_row10_col12\" class=\"data row10 col12\" ></td>\n",
       "                        <td id=\"T_ff78a_row10_col13\" class=\"data row10 col13\" ></td>\n",
       "            </tr>\n",
       "            <tr>\n",
       "                        <th id=\"T_ff78a_level0_row11\" class=\"row_heading level0 row11\" >2020-09-21</th>\n",
       "                        <td id=\"T_ff78a_row11_col0\" class=\"data row11 col0\" >100.00%</td>\n",
       "                        <td id=\"T_ff78a_row11_col1\" class=\"data row11 col1\" >1.89%</td>\n",
       "                        <td id=\"T_ff78a_row11_col2\" class=\"data row11 col2\" >2.99%</td>\n",
       "                        <td id=\"T_ff78a_row11_col3\" class=\"data row11 col3\" ></td>\n",
       "                        <td id=\"T_ff78a_row11_col4\" class=\"data row11 col4\" ></td>\n",
       "                        <td id=\"T_ff78a_row11_col5\" class=\"data row11 col5\" ></td>\n",
       "                        <td id=\"T_ff78a_row11_col6\" class=\"data row11 col6\" ></td>\n",
       "                        <td id=\"T_ff78a_row11_col7\" class=\"data row11 col7\" ></td>\n",
       "                        <td id=\"T_ff78a_row11_col8\" class=\"data row11 col8\" ></td>\n",
       "                        <td id=\"T_ff78a_row11_col9\" class=\"data row11 col9\" ></td>\n",
       "                        <td id=\"T_ff78a_row11_col10\" class=\"data row11 col10\" ></td>\n",
       "                        <td id=\"T_ff78a_row11_col11\" class=\"data row11 col11\" ></td>\n",
       "                        <td id=\"T_ff78a_row11_col12\" class=\"data row11 col12\" ></td>\n",
       "                        <td id=\"T_ff78a_row11_col13\" class=\"data row11 col13\" ></td>\n",
       "            </tr>\n",
       "            <tr>\n",
       "                        <th id=\"T_ff78a_level0_row12\" class=\"row_heading level0 row12\" >2020-09-22</th>\n",
       "                        <td id=\"T_ff78a_row12_col0\" class=\"data row12 col0\" >100.00%</td>\n",
       "                        <td id=\"T_ff78a_row12_col1\" class=\"data row12 col1\" >0.85%</td>\n",
       "                        <td id=\"T_ff78a_row12_col2\" class=\"data row12 col2\" ></td>\n",
       "                        <td id=\"T_ff78a_row12_col3\" class=\"data row12 col3\" ></td>\n",
       "                        <td id=\"T_ff78a_row12_col4\" class=\"data row12 col4\" ></td>\n",
       "                        <td id=\"T_ff78a_row12_col5\" class=\"data row12 col5\" ></td>\n",
       "                        <td id=\"T_ff78a_row12_col6\" class=\"data row12 col6\" ></td>\n",
       "                        <td id=\"T_ff78a_row12_col7\" class=\"data row12 col7\" ></td>\n",
       "                        <td id=\"T_ff78a_row12_col8\" class=\"data row12 col8\" ></td>\n",
       "                        <td id=\"T_ff78a_row12_col9\" class=\"data row12 col9\" ></td>\n",
       "                        <td id=\"T_ff78a_row12_col10\" class=\"data row12 col10\" ></td>\n",
       "                        <td id=\"T_ff78a_row12_col11\" class=\"data row12 col11\" ></td>\n",
       "                        <td id=\"T_ff78a_row12_col12\" class=\"data row12 col12\" ></td>\n",
       "                        <td id=\"T_ff78a_row12_col13\" class=\"data row12 col13\" ></td>\n",
       "            </tr>\n",
       "            <tr>\n",
       "                        <th id=\"T_ff78a_level0_row13\" class=\"row_heading level0 row13\" >2020-09-23</th>\n",
       "                        <td id=\"T_ff78a_row13_col0\" class=\"data row13 col0\" >100.00%</td>\n",
       "                        <td id=\"T_ff78a_row13_col1\" class=\"data row13 col1\" ></td>\n",
       "                        <td id=\"T_ff78a_row13_col2\" class=\"data row13 col2\" ></td>\n",
       "                        <td id=\"T_ff78a_row13_col3\" class=\"data row13 col3\" ></td>\n",
       "                        <td id=\"T_ff78a_row13_col4\" class=\"data row13 col4\" ></td>\n",
       "                        <td id=\"T_ff78a_row13_col5\" class=\"data row13 col5\" ></td>\n",
       "                        <td id=\"T_ff78a_row13_col6\" class=\"data row13 col6\" ></td>\n",
       "                        <td id=\"T_ff78a_row13_col7\" class=\"data row13 col7\" ></td>\n",
       "                        <td id=\"T_ff78a_row13_col8\" class=\"data row13 col8\" ></td>\n",
       "                        <td id=\"T_ff78a_row13_col9\" class=\"data row13 col9\" ></td>\n",
       "                        <td id=\"T_ff78a_row13_col10\" class=\"data row13 col10\" ></td>\n",
       "                        <td id=\"T_ff78a_row13_col11\" class=\"data row13 col11\" ></td>\n",
       "                        <td id=\"T_ff78a_row13_col12\" class=\"data row13 col12\" ></td>\n",
       "                        <td id=\"T_ff78a_row13_col13\" class=\"data row13 col13\" ></td>\n",
       "            </tr>\n",
       "    </tbody></table>"
      ],
      "text/plain": [
       "<pandas.io.formats.style.Styler at 0x26e0ad446d0>"
      ]
     },
     "execution_count": 3,
     "metadata": {},
     "output_type": "execute_result"
    }
   ],
   "source": [
    "retention = retention_rate('problem1-auth_data.csv','problem1-reg_data.csv', min_date='2020-09-10',max_date=None)\n",
    "retention"
   ]
  },
  {
   "cell_type": "markdown",
   "metadata": {},
   "source": [
    "# Задание 2\n",
    "Имеются результаты A/B теста, в котором двум группам пользователей предлагались различные наборы акционных предложений. Известно, что ARPU в тестовой группе выше на 5%, чем в контрольной. При этом в контрольной группе 1928 игроков из 202103 оказались платящими, а в тестовой – 1805 из 202667.\n",
    "\n",
    "Какой набор предложений можно считать лучшим? Какие метрики стоит проанализировать для принятия правильного решения и как?"
   ]
  },
  {
   "cell_type": "code",
   "execution_count": 4,
   "metadata": {},
   "outputs": [],
   "source": [
    "df = pd.read_csv('task_2.csv', sep=';')"
   ]
  },
  {
   "cell_type": "code",
   "execution_count": 5,
   "metadata": {},
   "outputs": [
    {
     "data": {
      "text/html": [
       "<div>\n",
       "<style scoped>\n",
       "    .dataframe tbody tr th:only-of-type {\n",
       "        vertical-align: middle;\n",
       "    }\n",
       "\n",
       "    .dataframe tbody tr th {\n",
       "        vertical-align: top;\n",
       "    }\n",
       "\n",
       "    .dataframe thead th {\n",
       "        text-align: right;\n",
       "    }\n",
       "</style>\n",
       "<table border=\"1\" class=\"dataframe\">\n",
       "  <thead>\n",
       "    <tr style=\"text-align: right;\">\n",
       "      <th></th>\n",
       "      <th>user_id</th>\n",
       "      <th>revenue</th>\n",
       "      <th>testgroup</th>\n",
       "    </tr>\n",
       "  </thead>\n",
       "  <tbody>\n",
       "    <tr>\n",
       "      <th>0</th>\n",
       "      <td>1</td>\n",
       "      <td>0</td>\n",
       "      <td>b</td>\n",
       "    </tr>\n",
       "    <tr>\n",
       "      <th>1</th>\n",
       "      <td>2</td>\n",
       "      <td>0</td>\n",
       "      <td>a</td>\n",
       "    </tr>\n",
       "    <tr>\n",
       "      <th>2</th>\n",
       "      <td>3</td>\n",
       "      <td>0</td>\n",
       "      <td>a</td>\n",
       "    </tr>\n",
       "    <tr>\n",
       "      <th>3</th>\n",
       "      <td>4</td>\n",
       "      <td>0</td>\n",
       "      <td>b</td>\n",
       "    </tr>\n",
       "    <tr>\n",
       "      <th>4</th>\n",
       "      <td>5</td>\n",
       "      <td>0</td>\n",
       "      <td>b</td>\n",
       "    </tr>\n",
       "  </tbody>\n",
       "</table>\n",
       "</div>"
      ],
      "text/plain": [
       "   user_id  revenue testgroup\n",
       "0        1        0         b\n",
       "1        2        0         a\n",
       "2        3        0         a\n",
       "3        4        0         b\n",
       "4        5        0         b"
      ]
     },
     "execution_count": 5,
     "metadata": {},
     "output_type": "execute_result"
    }
   ],
   "source": [
    "df.head()"
   ]
  },
  {
   "cell_type": "code",
   "execution_count": 6,
   "metadata": {},
   "outputs": [
    {
     "name": "stdout",
     "output_type": "stream",
     "text": [
      "<class 'pandas.core.frame.DataFrame'>\n",
      "RangeIndex: 404770 entries, 0 to 404769\n",
      "Data columns (total 3 columns):\n",
      " #   Column     Non-Null Count   Dtype \n",
      "---  ------     --------------   ----- \n",
      " 0   user_id    404770 non-null  int64 \n",
      " 1   revenue    404770 non-null  int64 \n",
      " 2   testgroup  404770 non-null  object\n",
      "dtypes: int64(2), object(1)\n",
      "memory usage: 9.3+ MB\n"
     ]
    }
   ],
   "source": [
    "df.info()"
   ]
  },
  {
   "cell_type": "code",
   "execution_count": 7,
   "metadata": {},
   "outputs": [
    {
     "data": {
      "text/plain": [
       "count    404770.000000\n",
       "mean         26.083435\n",
       "std         681.652928\n",
       "min           0.000000\n",
       "25%           0.000000\n",
       "50%           0.000000\n",
       "75%           0.000000\n",
       "max       37433.000000\n",
       "Name: revenue, dtype: float64"
      ]
     },
     "execution_count": 7,
     "metadata": {},
     "output_type": "execute_result"
    }
   ],
   "source": [
    "df.revenue.describe()"
   ]
  },
  {
   "cell_type": "markdown",
   "metadata": {},
   "source": [
    "#### Сравним коверсию в покупку для групп А и В"
   ]
  },
  {
   "cell_type": "code",
   "execution_count": 8,
   "metadata": {},
   "outputs": [],
   "source": [
    "df['converted'] = (df['revenue'] > 0).astype(np.uint8)"
   ]
  },
  {
   "cell_type": "code",
   "execution_count": 9,
   "metadata": {},
   "outputs": [],
   "source": [
    "report_converion = df.groupby('testgroup') \\\n",
    "        .agg({'converted':'sum', 'user_id':'nunique'}) \\\n",
    "        .rename(columns={'user_id':'total_users','converted':'converted_users'})"
   ]
  },
  {
   "cell_type": "code",
   "execution_count": 10,
   "metadata": {},
   "outputs": [],
   "source": [
    "report_converion['conversion_rate, %'] = report_converion['converted_users']*100 / report_converion['total_users']"
   ]
  },
  {
   "cell_type": "code",
   "execution_count": 11,
   "metadata": {},
   "outputs": [
    {
     "data": {
      "text/html": [
       "<div>\n",
       "<style scoped>\n",
       "    .dataframe tbody tr th:only-of-type {\n",
       "        vertical-align: middle;\n",
       "    }\n",
       "\n",
       "    .dataframe tbody tr th {\n",
       "        vertical-align: top;\n",
       "    }\n",
       "\n",
       "    .dataframe thead th {\n",
       "        text-align: right;\n",
       "    }\n",
       "</style>\n",
       "<table border=\"1\" class=\"dataframe\">\n",
       "  <thead>\n",
       "    <tr style=\"text-align: right;\">\n",
       "      <th></th>\n",
       "      <th>converted_users</th>\n",
       "      <th>total_users</th>\n",
       "      <th>conversion_rate, %</th>\n",
       "    </tr>\n",
       "    <tr>\n",
       "      <th>testgroup</th>\n",
       "      <th></th>\n",
       "      <th></th>\n",
       "      <th></th>\n",
       "    </tr>\n",
       "  </thead>\n",
       "  <tbody>\n",
       "    <tr>\n",
       "      <th>a</th>\n",
       "      <td>1928.0</td>\n",
       "      <td>202103</td>\n",
       "      <td>0.953969</td>\n",
       "    </tr>\n",
       "    <tr>\n",
       "      <th>b</th>\n",
       "      <td>1805.0</td>\n",
       "      <td>202667</td>\n",
       "      <td>0.890624</td>\n",
       "    </tr>\n",
       "  </tbody>\n",
       "</table>\n",
       "</div>"
      ],
      "text/plain": [
       "           converted_users  total_users  conversion_rate, %\n",
       "testgroup                                                  \n",
       "a                   1928.0       202103            0.953969\n",
       "b                   1805.0       202667            0.890624"
      ]
     },
     "execution_count": 11,
     "metadata": {},
     "output_type": "execute_result"
    }
   ],
   "source": [
    "report_converion"
   ]
  },
  {
   "cell_type": "code",
   "execution_count": 12,
   "metadata": {},
   "outputs": [
    {
     "name": "stdout",
     "output_type": "stream",
     "text": [
      "В тестовой группе всего    202667 пользователей, совершили покупку 1805 из них\n",
      "В контрольной группе всего 202103 пользователей, совершили покупку 1928 из них\n",
      "__________________________________________________________________________________________________________________________ \n",
      "\n",
      "Коверсия в тестовой    группе 0.891%\n",
      "Коверсия в контрольной группе 0.954%\n"
     ]
    }
   ],
   "source": [
    "print(f\"В тестовой группе всего    {report_converion.loc['b','total_users']} пользователей, совершили покупку {report_converion.loc['b','converted_users']:.0f} из них\")\n",
    "print(f\"В контрольной группе всего {report_converion.loc['a','total_users']} пользователей, совершили покупку {report_converion.loc['a','converted_users']:.0f} из них\")\n",
    "print('__________________________________________________________________________________________________________________________ \\n')\n",
    "print(f\"Коверсия в тестовой    группе {report_converion.loc['b','conversion_rate, %']:.3f}%\")\n",
    "print(f\"Коверсия в контрольной группе {report_converion.loc['a','conversion_rate, %']:.3f}%\")"
   ]
  },
  {
   "cell_type": "code",
   "execution_count": 13,
   "metadata": {},
   "outputs": [
    {
     "data": {
      "image/png": "[encoded data removed]",
      "text/plain": [
       "<Figure size 432x432 with 1 Axes>"
      ]
     },
     "metadata": {},
     "output_type": "display_data"
    }
   ],
   "source": [
    "plt.figure(figsize=(6,6)) \n",
    "\n",
    "plots =sns.barplot(x=['Контрольная группа','Тестовая группа'], y=report_converion['conversion_rate, %']) \n",
    " \n",
    "for bar in plots.patches:\n",
    "    plots.annotate(format(bar.get_height(), '.3f'),\n",
    "                   (bar.get_x() + bar.get_width() / 2,\n",
    "                    bar.get_height()), ha='center', va='center',\n",
    "                   size=15, xytext=(0, 8),\n",
    "                   textcoords='offset points')\n",
    "\n",
    "plt.ylim(0, 1.4) \n",
    "plt.title( 'Conversion Rate, %', pad=15, size=14) \n",
    "#plt.xlabel('Группа', fontsize=14) \n",
    "plt.ylabel('');"
   ]
  },
  {
   "cell_type": "markdown",
   "metadata": {},
   "source": [
    "Как видно из графика коверсия Контрольной группы больше тестовой. Проверим является ли эта разница статистически значимой ?"
   ]
  },
  {
   "cell_type": "code",
   "execution_count": 14,
   "metadata": {},
   "outputs": [
    {
     "name": "stdout",
     "output_type": "stream",
     "text": [
      "Нулевая гипотеза - различий между конверсиями тестовой и контрольной групп нет\n",
      "Альтернативная гипотеза - коверсии тестовой и контрольной групп различаются\n",
      "Hₒ: CR = CRₒ\n",
      "Hₐ: CR ≠ CRₒ\n",
      "Мы также установим уровень достоверности 95%:\n",
      "α = 0,05\n"
     ]
    }
   ],
   "source": [
    "print(f\"\"\"Нулевая гипотеза - различий между конверсиями тестовой и контрольной групп нет\n",
    "Альтернативная гипотеза - коверсии тестовой и контрольной групп различаются\n",
    "Hₒ: CR = CRₒ\n",
    "Hₐ: CR ≠ CRₒ\n",
    "Мы также установим уровень достоверности 95%:\n",
    "α = 0,05\"\"\")"
   ]
  },
  {
   "cell_type": "code",
   "execution_count": 15,
   "metadata": {},
   "outputs": [
    {
     "name": "stdout",
     "output_type": "stream",
     "text": [
      "Так как наша выборка большая - 404770, мы можем использовать нормальное приближение для расчета p-value (т. е. z-критерий).\n"
     ]
    }
   ],
   "source": [
    "print(f\"Так как наша выборка большая - {df.shape[0]}, мы можем использовать нормальное приближение для расчета p-value (т. е. z-критерий).\")"
   ]
  },
  {
   "cell_type": "code",
   "execution_count": 16,
   "metadata": {},
   "outputs": [
    {
     "name": "stdout",
     "output_type": "stream",
     "text": [
      "z-statistic: 2.11\n",
      "p-value: 0.035\n",
      "ci 95% for control group: [0.009, 0.010]\n",
      "ci 95% for treatment group: [0.008, 0.009]\n",
      "Отвергаем нулевую гипотезу\n"
     ]
    }
   ],
   "source": [
    "alpha = 0.05\n",
    "nobs      = [report_converion.loc['a','total_users'], report_converion.loc['b','total_users']]\n",
    "successes = [report_converion.loc['a','converted_users'], report_converion.loc['b','converted_users']]\n",
    "\n",
    "z_stat, pval = proportions_ztest(successes, nobs=nobs)\n",
    "(lower_con, lower_treat), (upper_con, upper_treat) = proportion_confint(successes, nobs=nobs, alpha=0.05)\n",
    "\n",
    "print(f'z-statistic: {z_stat:.2f}')\n",
    "print(f'p-value: {pval:.3f}')\n",
    "print(f'ci 95% for control group: [{lower_con:.3f}, {upper_con:.3f}]')\n",
    "print(f'ci 95% for treatment group: [{lower_treat:.3f}, {upper_treat:.3f}]')\n",
    "\n",
    "if pval < alpha:\n",
    "    print('Отвергаем нулевую гипотезу')\n",
    "else:\n",
    "    print('Не удалось отвергнуть нулевую гипотезу')"
   ]
  },
  {
   "cell_type": "code",
   "execution_count": 17,
   "metadata": {},
   "outputs": [
    {
     "name": "stdout",
     "output_type": "stream",
     "text": [
      "Так как 0.035 < 0.05, отвергаем нулевую гипотезу о равенстве конверсий в двух группах.\n",
      "Следовательно, конверсия в контрольной группе больше коверсии в тестовой, и разница является статистически значимой\n",
      "на уровне доверия 95%.\n",
      "Из этого можно сделать вывод, что вариант акции а лучше, чем b. \n"
     ]
    }
   ],
   "source": [
    "print(f\"Так как {pval:.3f} < {alpha}, отвергаем нулевую гипотезу о равенстве конверсий в двух группах.\\nСледовательно, конверсия в контрольной группе больше коверсии в тестовой, и разница является статистически значимой\\nна уровне доверия 95%.\\nИз этого можно сделать вывод, что вариант акции а лучше, чем b. \")"
   ]
  },
  {
   "cell_type": "markdown",
   "metadata": {},
   "source": [
    "#### ARPU "
   ]
  },
  {
   "cell_type": "markdown",
   "metadata": {},
   "source": [
    "Посмотрим на показатель ARPU (Average Revenue Per User) показывает, сколько денег в среднем приносит компании один пользователь за определенный промежуток времени.\n",
    "\n",
    "`Average Revenue Per User = весь доход за период / количество пользователей за период`"
   ]
  },
  {
   "cell_type": "code",
   "execution_count": 18,
   "metadata": {},
   "outputs": [
    {
     "data": {
      "text/html": [
       "<div>\n",
       "<style scoped>\n",
       "    .dataframe tbody tr th:only-of-type {\n",
       "        vertical-align: middle;\n",
       "    }\n",
       "\n",
       "    .dataframe tbody tr th {\n",
       "        vertical-align: top;\n",
       "    }\n",
       "\n",
       "    .dataframe thead th {\n",
       "        text-align: right;\n",
       "    }\n",
       "</style>\n",
       "<table border=\"1\" class=\"dataframe\">\n",
       "  <thead>\n",
       "    <tr style=\"text-align: right;\">\n",
       "      <th></th>\n",
       "      <th>user_id</th>\n",
       "      <th>revenue</th>\n",
       "      <th>testgroup</th>\n",
       "      <th>converted</th>\n",
       "    </tr>\n",
       "  </thead>\n",
       "  <tbody>\n",
       "    <tr>\n",
       "      <th>0</th>\n",
       "      <td>1</td>\n",
       "      <td>0</td>\n",
       "      <td>b</td>\n",
       "      <td>0</td>\n",
       "    </tr>\n",
       "    <tr>\n",
       "      <th>1</th>\n",
       "      <td>2</td>\n",
       "      <td>0</td>\n",
       "      <td>a</td>\n",
       "      <td>0</td>\n",
       "    </tr>\n",
       "    <tr>\n",
       "      <th>2</th>\n",
       "      <td>3</td>\n",
       "      <td>0</td>\n",
       "      <td>a</td>\n",
       "      <td>0</td>\n",
       "    </tr>\n",
       "    <tr>\n",
       "      <th>3</th>\n",
       "      <td>4</td>\n",
       "      <td>0</td>\n",
       "      <td>b</td>\n",
       "      <td>0</td>\n",
       "    </tr>\n",
       "    <tr>\n",
       "      <th>4</th>\n",
       "      <td>5</td>\n",
       "      <td>0</td>\n",
       "      <td>b</td>\n",
       "      <td>0</td>\n",
       "    </tr>\n",
       "  </tbody>\n",
       "</table>\n",
       "</div>"
      ],
      "text/plain": [
       "   user_id  revenue testgroup  converted\n",
       "0        1        0         b          0\n",
       "1        2        0         a          0\n",
       "2        3        0         a          0\n",
       "3        4        0         b          0\n",
       "4        5        0         b          0"
      ]
     },
     "execution_count": 18,
     "metadata": {},
     "output_type": "execute_result"
    }
   ],
   "source": [
    "df.head()"
   ]
  },
  {
   "cell_type": "code",
   "execution_count": 19,
   "metadata": {},
   "outputs": [],
   "source": [
    "report_ARPU = df.groupby('testgroup').agg({'revenue':'sum', 'user_id':'nunique'})\n",
    "report_ARPU.columns = ['total_revenue', 'total_users']\n",
    "report_ARPU['ARPU'] = report_ARPU['total_revenue'] / report_ARPU['total_users']"
   ]
  },
  {
   "cell_type": "code",
   "execution_count": 20,
   "metadata": {},
   "outputs": [
    {
     "data": {
      "text/html": [
       "<div>\n",
       "<style scoped>\n",
       "    .dataframe tbody tr th:only-of-type {\n",
       "        vertical-align: middle;\n",
       "    }\n",
       "\n",
       "    .dataframe tbody tr th {\n",
       "        vertical-align: top;\n",
       "    }\n",
       "\n",
       "    .dataframe thead th {\n",
       "        text-align: right;\n",
       "    }\n",
       "</style>\n",
       "<table border=\"1\" class=\"dataframe\">\n",
       "  <thead>\n",
       "    <tr style=\"text-align: right;\">\n",
       "      <th></th>\n",
       "      <th>total_revenue</th>\n",
       "      <th>total_users</th>\n",
       "      <th>ARPU</th>\n",
       "    </tr>\n",
       "    <tr>\n",
       "      <th>testgroup</th>\n",
       "      <th></th>\n",
       "      <th></th>\n",
       "      <th></th>\n",
       "    </tr>\n",
       "  </thead>\n",
       "  <tbody>\n",
       "    <tr>\n",
       "      <th>a</th>\n",
       "      <td>5136189</td>\n",
       "      <td>202103</td>\n",
       "      <td>25.413720</td>\n",
       "    </tr>\n",
       "    <tr>\n",
       "      <th>b</th>\n",
       "      <td>5421603</td>\n",
       "      <td>202667</td>\n",
       "      <td>26.751287</td>\n",
       "    </tr>\n",
       "  </tbody>\n",
       "</table>\n",
       "</div>"
      ],
      "text/plain": [
       "           total_revenue  total_users       ARPU\n",
       "testgroup                                       \n",
       "a                5136189       202103  25.413720\n",
       "b                5421603       202667  26.751287"
      ]
     },
     "execution_count": 20,
     "metadata": {},
     "output_type": "execute_result"
    }
   ],
   "source": [
    "report_ARPU"
   ]
  },
  {
   "cell_type": "code",
   "execution_count": 21,
   "metadata": {},
   "outputs": [
    {
     "name": "stdout",
     "output_type": "stream",
     "text": [
      "ARPU в тестовой группе составляет    26.75\n",
      "ARPU в контрольной группе составляет 25.41\n",
      "ARPU в тестовой группе больше на 5.0%, чем в контрольной\n"
     ]
    }
   ],
   "source": [
    "print(f\"ARPU в тестовой группе составляет    {report_ARPU.loc['b','ARPU']:.2f}\")\n",
    "print(f\"ARPU в контрольной группе составляет {report_ARPU.loc['a','ARPU']:.2f}\")\n",
    "print(f\"ARPU в тестовой группе больше на {((report_ARPU.loc['b','ARPU']-report_ARPU.loc['a','ARPU'])*100 / report_ARPU.loc['b','ARPU']):.1f}%, чем в контрольной\")"
   ]
  },
  {
   "cell_type": "markdown",
   "metadata": {},
   "source": [
    "Проверим является ли данная разница статистически значимой с помощью метода бутстрап. Для этого напишем функцию get_bootstrap на вход, которой подаются значения тестовой и контрольной групп, количество бутстреп выборок, статистика и уровень значимости"
   ]
  },
  {
   "cell_type": "code",
   "execution_count": 22,
   "metadata": {},
   "outputs": [],
   "source": [
    "group_a = df.query(\"testgroup == 'a'\").revenue\n",
    "group_b = df.query(\"testgroup == 'b'\").revenue"
   ]
  },
  {
   "cell_type": "code",
   "execution_count": 23,
   "metadata": {},
   "outputs": [
    {
     "data": {
      "image/png": "[encoded data removed]",
      "text/plain": [
       "<Figure size 1080x360 with 2 Axes>"
      ]
     },
     "metadata": {},
     "output_type": "display_data"
    }
   ],
   "source": [
    "plt.figure(figsize=(15, 5))\n",
    "\n",
    "\n",
    "plt.subplot(1,2,1)\n",
    "sns.distplot(group_a)\n",
    "plt.title('Распределение выручки тестовой группы',fontsize=16)\n",
    "plt.xlabel('')\n",
    "plt.ylabel('')\n",
    "\n",
    "plt.subplot(1,2,2)\n",
    "sns.distplot(group_b)\n",
    "plt.title('Распределение выручки контрольной группы',fontsize=16)\n",
    "plt.xlabel('')\n",
    "plt.ylabel('');"
   ]
  },
  {
   "cell_type": "markdown",
   "metadata": {},
   "source": [
    "Из графиков видно, что распределения выборок смещено влево и сосредоточено около нуля, также они имеют большой разброс, совсем не похожи на нормальное распреление.Поэтому проверим является ли данная разница статистически значимой с помощью метода бутстрап. \n",
    "Для этого напишем функцию get_bootstrap на вход, которой подаются значения тестовой и контрольной групп, количество бутстреп выборок, статистика и уровень значимости"
   ]
  },
  {
   "cell_type": "code",
   "execution_count": 24,
   "metadata": {},
   "outputs": [],
   "source": [
    "# Объявим функцию, которая позволит проверять гипотезы с помощью бутстрапа \n",
    "def get_bootstrap(\n",
    "    data_column_1,                 # числовые значения первой подвыборки\n",
    "    data_column_2,                 # числовые значения второй подвыборки\n",
    "    boot_it = 1000,                # количество бутстреп-подвыборок\n",
    "    statistic = np.mean,           # интересующая нас статистика\n",
    "    bootstrap_conf_level = 0.95    # уровень значимости\n",
    "):\n",
    "    boot_len = max([len(data_column_1), len(data_column_2)])\n",
    "    boot_data = []\n",
    "    for i in range(boot_it):\n",
    "        samples_1 = data_column_1.sample(\n",
    "            boot_len,\n",
    "            replace = True \n",
    "        ).values\n",
    "        \n",
    "        samples_2 = data_column_2.sample(\n",
    "            boot_len,\n",
    "            replace = True\n",
    "        ).values\n",
    "        \n",
    "        boot_data.append(statistic(samples_1-samples_2))\n",
    "        \n",
    "    pd_boot_data = pd.DataFrame(boot_data)\n",
    "    \n",
    "    left_quant = (1-bootstrap_conf_level)/2\n",
    "    right_quant = 1-(1-bootstrap_conf_level)/2\n",
    "    ci = pd_boot_data.quantile([left_quant,right_quant])\n",
    "        \n",
    "    # считаем  p_value по нормальному распределению\n",
    "    p_1 = norm.cdf(\n",
    "        x=0,\n",
    "        loc = np.mean(boot_data),\n",
    "        scale = np.std(boot_data)\n",
    "    )\n",
    "    p_2 = norm.cdf(\n",
    "        x=0,\n",
    "        loc = -np.mean(boot_data),\n",
    "        scale = np.std(boot_data)\n",
    "    )\n",
    "    p_value = min(p_1,p_2) * 2\n",
    "        \n",
    "    return {\"boot_data\": boot_data,\n",
    "            \"ci\": ci,\n",
    "            \"p_value\": p_value}"
   ]
  },
  {
   "cell_type": "code",
   "execution_count": 25,
   "metadata": {},
   "outputs": [],
   "source": [
    "result = get_bootstrap(group_a,group_b)"
   ]
  },
  {
   "cell_type": "code",
   "execution_count": 26,
   "metadata": {},
   "outputs": [
    {
     "data": {
      "image/png": "[encoded data removed]",
      "text/plain": [
       "<Figure size 432x288 with 1 Axes>"
      ]
     },
     "metadata": {},
     "output_type": "display_data"
    },
    {
     "name": "stdout",
     "output_type": "stream",
     "text": [
      "Статистически значимой разницы в ARPU не обнаружено, так как 0 входит в доверительный интервал разницы между группами.\n",
      "Следовательно, нет оснований говорить, что ARPU тестовой группы больше контрольной и акция а лучше акции b.\n"
     ]
    }
   ],
   "source": [
    "sns.distplot(result['boot_data']) # функция построения распределения\n",
    "plt.title('Bootstrap-распределение разниц ARPU')\n",
    "plt.rcParams[\"figure.figsize\"] = (12, 6)\n",
    "plt.vlines(0, # отрисуем линию на уровне ноля\n",
    "           ymin = 0, \n",
    "           ymax = 0.25, \n",
    "           linestyles= '--', \n",
    "           colors = 'red')\n",
    "plt.vlines(result['ci'], # отрисуем перцентили\n",
    "           ymin = 0, \n",
    "           ymax = 0.25, \n",
    "           linestyles= '--', \n",
    "           colors = 'grey', \n",
    "           label = '95%-доверительный интервал')\n",
    "plt.legend()\n",
    "plt.show()\n",
    "print(\"Статистически значимой разницы в ARPU не обнаружено, так как 0 входит в доверительный интервал разницы между группами.\")\n",
    "print(\"Следовательно, нет оснований говорить, что ARPU тестовой группы больше контрольной и акция а лучше акции b.\");"
   ]
  },
  {
   "cell_type": "markdown",
   "metadata": {},
   "source": [
    "#### ARPPU"
   ]
  },
  {
   "cell_type": "markdown",
   "metadata": {},
   "source": [
    "Также рассмотрим метрику ARPPU (Average Revenue Per Paying User), учитывающую только платяжих клиентов\n",
    "\n",
    "`Общий доход за период / Количество платящих пользователей за период`"
   ]
  },
  {
   "cell_type": "code",
   "execution_count": 27,
   "metadata": {},
   "outputs": [],
   "source": [
    "report_ARPPU = df[df['revenue'] > 0].groupby('testgroup').agg({'revenue':'sum', 'user_id':'nunique'})\n",
    "report_ARPPU.columns = ['total_revenue', 'total_paying_users']\n",
    "report_ARPPU['ARPPU'] = report_ARPPU['total_revenue'] / report_ARPPU['total_paying_users']"
   ]
  },
  {
   "cell_type": "code",
   "execution_count": 28,
   "metadata": {},
   "outputs": [
    {
     "data": {
      "text/html": [
       "<div>\n",
       "<style scoped>\n",
       "    .dataframe tbody tr th:only-of-type {\n",
       "        vertical-align: middle;\n",
       "    }\n",
       "\n",
       "    .dataframe tbody tr th {\n",
       "        vertical-align: top;\n",
       "    }\n",
       "\n",
       "    .dataframe thead th {\n",
       "        text-align: right;\n",
       "    }\n",
       "</style>\n",
       "<table border=\"1\" class=\"dataframe\">\n",
       "  <thead>\n",
       "    <tr style=\"text-align: right;\">\n",
       "      <th></th>\n",
       "      <th>total_revenue</th>\n",
       "      <th>total_paying_users</th>\n",
       "      <th>ARPPU</th>\n",
       "    </tr>\n",
       "    <tr>\n",
       "      <th>testgroup</th>\n",
       "      <th></th>\n",
       "      <th></th>\n",
       "      <th></th>\n",
       "    </tr>\n",
       "  </thead>\n",
       "  <tbody>\n",
       "    <tr>\n",
       "      <th>a</th>\n",
       "      <td>5136189</td>\n",
       "      <td>1928</td>\n",
       "      <td>2663.998444</td>\n",
       "    </tr>\n",
       "    <tr>\n",
       "      <th>b</th>\n",
       "      <td>5421603</td>\n",
       "      <td>1805</td>\n",
       "      <td>3003.658172</td>\n",
       "    </tr>\n",
       "  </tbody>\n",
       "</table>\n",
       "</div>"
      ],
      "text/plain": [
       "           total_revenue  total_paying_users        ARPPU\n",
       "testgroup                                                \n",
       "a                5136189                1928  2663.998444\n",
       "b                5421603                1805  3003.658172"
      ]
     },
     "execution_count": 28,
     "metadata": {},
     "output_type": "execute_result"
    }
   ],
   "source": [
    "report_ARPPU"
   ]
  },
  {
   "cell_type": "code",
   "execution_count": 29,
   "metadata": {},
   "outputs": [
    {
     "name": "stdout",
     "output_type": "stream",
     "text": [
      "ARPPU в тестовой группе составляет    3003.66\n",
      "ARPPU в контрольной группе составляет 2664.00\n",
      "ARPPU в тестовой группе больше на 11.3%, чем в контрольной\n"
     ]
    }
   ],
   "source": [
    "print(f\"ARPPU в тестовой группе составляет    {report_ARPPU.loc['b','ARPPU']:.2f}\")\n",
    "print(f\"ARPPU в контрольной группе составляет {report_ARPPU.loc['a','ARPPU']:.2f}\")\n",
    "print(f\"ARPPU в тестовой группе больше на {((report_ARPPU.loc['b','ARPPU']-report_ARPPU.loc['a','ARPPU'])*100 / report_ARPPU.loc['b','ARPPU']):.1f}%, чем в контрольной\")"
   ]
  },
  {
   "cell_type": "code",
   "execution_count": 30,
   "metadata": {},
   "outputs": [],
   "source": [
    "group_a_more_0 = df[(df['revenue'] > 0) & (df['testgroup'] == 'a')].revenue\n",
    "group_b_more_0 = df[(df['revenue'] > 0) & (df['testgroup'] == 'b')].revenue"
   ]
  },
  {
   "cell_type": "code",
   "execution_count": 31,
   "metadata": {},
   "outputs": [
    {
     "data": {
      "image/png": "[encoded data removed]",
      "text/plain": [
       "<Figure size 1080x360 with 2 Axes>"
      ]
     },
     "metadata": {},
     "output_type": "display_data"
    }
   ],
   "source": [
    "plt.figure(figsize=(15, 5))\n",
    "\n",
    "\n",
    "plt.subplot(1,2,1)\n",
    "sns.distplot(group_a_more_0)\n",
    "plt.title('Распределение выручки тестовой группы\\n(только для платящих пользователей)',fontsize=16)\n",
    "plt.xlabel('')\n",
    "plt.ylabel('')\n",
    "\n",
    "plt.subplot(1,2,2)\n",
    "sns.distplot(group_b_more_0)\n",
    "plt.title('Распределение выручки контрольной группы\\n(только для платящих пользователей)',fontsize=16)\n",
    "plt.xlabel('')\n",
    "plt.ylabel('');"
   ]
  },
  {
   "cell_type": "markdown",
   "metadata": {},
   "source": [
    "Исходя из графиков распределения далеки от нормального, поэтому для проверки статистической значимости ARPPU будем снова использовать бутстрап метод с помощью функции get_bootstrap"
   ]
  },
  {
   "cell_type": "code",
   "execution_count": 32,
   "metadata": {},
   "outputs": [],
   "source": [
    "res_more_0 = get_bootstrap(group_a_more_0, group_b_more_0)"
   ]
  },
  {
   "cell_type": "code",
   "execution_count": 33,
   "metadata": {},
   "outputs": [
    {
     "data": {
      "image/png": "[encoded data removed]",
      "text/plain": [
       "<Figure size 864x432 with 1 Axes>"
      ]
     },
     "metadata": {},
     "output_type": "display_data"
    },
    {
     "name": "stdout",
     "output_type": "stream",
     "text": [
      "Статистически значимой разницы в ARPPU не обнаружено, так как 0 входит в доверительный интервал разницы между группами.\n",
      "Следовательно, нет оснований говорить, что ARPPU тестовой группы больше контрольной и акция A лучше акции B.\n"
     ]
    }
   ],
   "source": [
    "sns.distplot(res_more_0['boot_data']) # функция построения распределения\n",
    "plt.title('Bootstrap-распределение разниц ARPPU')\n",
    "plt.rcParams[\"figure.figsize\"] = (12, 6)\n",
    "plt.vlines(0, # отрисуем линию на уровне ноля\n",
    "           ymin = 0, \n",
    "           ymax = 0.0019, \n",
    "           linestyles= '--', \n",
    "           colors = 'red')\n",
    "plt.vlines(res_more_0['ci'], # отрисуем перцентили\n",
    "           ymin = 0, \n",
    "           ymax = 0.0019, \n",
    "           linestyles= '--', \n",
    "           colors = 'grey', \n",
    "           label = '95%-доверительный интервал')\n",
    "plt.legend()\n",
    "plt.show()\n",
    "print(\"Статистически значимой разницы в ARPPU не обнаружено, так как 0 входит в доверительный интервал разницы между группами.\")\n",
    "print(\"Следовательно, нет оснований говорить, что ARPPU тестовой группы больше контрольной и акция A лучше акции B.\");"
   ]
  },
  {
   "cell_type": "markdown",
   "metadata": {},
   "source": [
    "## ВЫВОД"
   ]
  },
  {
   "cell_type": "code",
   "execution_count": 34,
   "metadata": {},
   "outputs": [
    {
     "name": "stdout",
     "output_type": "stream",
     "text": [
      "                     ARPU    ARPPU  conversion_rate, %\n",
      "Контрольная группа  25.41  2664.00                0.95\n",
      "Тестовая группа     26.75  3003.66                0.89\n",
      "_________________________________________________________\n",
      "\n",
      "ARPPU в тестовой группе больше на 11.3%, чем в контрольной, данная разница статистически не значима\n",
      "ARPU в тестовой группе больше на 5.0%, чем в контрольной, данная разница статистически не значима\n",
      "Conversion Rate в тестовой группе меньше на 6.3%, чем в контрольной, данная разница статистически значима на уровне доверия 95%\n"
     ]
    }
   ],
   "source": [
    "report = report_ARPU.merge(report_ARPPU).merge(report_converion)\n",
    "report = report[['ARPU','ARPPU','conversion_rate, %']].round(2)\n",
    "report.index = ['Контрольная группа','Тестовая группа']\n",
    "print(report)\n",
    "print('_________________________________________________________\\n')\n",
    "print(f\"ARPPU в тестовой группе больше на {((report_ARPPU.loc['b','ARPPU']-report_ARPPU.loc['a','ARPPU'])*100 / report_ARPPU.loc['b','ARPPU']):.1f}%, чем в контрольной, данная разница статистически не значима\")\n",
    "print(f\"ARPU в тестовой группе больше на {((report_ARPU.loc['b','ARPU']-report_ARPU.loc['a','ARPU'])*100 / report_ARPU.loc['b','ARPU']):.1f}%, чем в контрольной, данная разница статистически не значима\")\n",
    "print(f\"Conversion Rate в тестовой группе меньше на {((report.loc['Контрольная группа','conversion_rate, %']- report.loc['Тестовая группа','conversion_rate, %'])*100 / report.loc['Контрольная группа','conversion_rate, %']):.1f}%, чем в контрольной, данная разница статистически значима на уровне доверия 95%\")"
   ]
  },
  {
   "attachments": {
    "image.png": {
     "image/png": "[encoded data removed]"
    }
   },
   "cell_type": "markdown",
   "metadata": {},
   "source": [
    "![image.png](attachment:image.png)\n",
    "\n",
    "Лучше оставить вариант акции А, предлагаемый контрольной группе, так как вариант В не увеличил ARPU и ARPPU и уменьшил конверсию в покупку"
   ]
  },
  {
   "cell_type": "markdown",
   "metadata": {},
   "source": [
    "# Задание 3"
   ]
  },
  {
   "cell_type": "markdown",
   "metadata": {},
   "source": [
    "*В игре Plants & Gardens каждый месяц проводятся тематические события, ограниченные по времени. В них игроки могут получить уникальные предметы для сада и персонажей, дополнительные монеты или бонусы. Для получения награды требуется пройти ряд уровней за определенное время. С помощью каких метрик можно оценить результаты последнего прошедшего события?*\n",
    "\n",
    "`Метрики, которые необходимо отслеживать:`\n",
    " - DAU\n",
    " - Sticky Factor\n",
    " - Retention \n",
    " - Total Daily Play Time\n",
    "\n",
    "\n",
    "1. **DAU** (Daily Active Users - число пользоватей, которые заходили в игру в определенный день)будем отслеживать для того, что бы отслеживать нравится ли пользователям наше текущее тематическое событие. DAU не должен падать\n",
    "\n",
    "2. Стоит также измерить **Sticky Factor** (коэффициент «липучести» = среднее DAU/MAU)за текущий месяц проведения тематического события и сравнить с данными по этой метрике за предыдущие периоды. Ожидаем, что Sticky Factor увеличится, то есть это будет означать, что пользователям понравилось данное событие и они регулярно заходили в течение месяца проведения события.\n",
    "\n",
    "3. Стоит отслеживать **Retention Rate** (коэффициент удержания пользователей) по когортам, ожидаем, что Retention Rate будет не падать, то есть пользователи регулярно будут возвращаться в игру.\n",
    "\n",
    "4. **Total Daily Play Time** также будем ожидать, что увеличится, то есть пользователи будут дольше находится в игре, что означает, что им нравится данное событие.\n",
    "\n",
    "*Предположим, в другом событии мы усложнили механику событий так, что при каждой неудачной попытке выполнения уровня игрок будет откатываться на несколько уровней назад. Изменится ли набор метрик оценки результата? Если да, то как?*\n",
    "\n",
    "Можно оставить выше уже перечисленные метрики, добавив разделение на пользователей, которые откатились на несколько уровней назад N раз. Интересно посмотреть на их поведение с течением времени, если их метрики будут меньше/падать с течением времени в отличие от пользователей, которые проходят уровни без неудачных попыток, то это будет означать, что пользователям не нравится, что их откидывает назад и им по много раз приходится проходить одни и те же уровни, и есть риск их потерять."
   ]
  }
 ],
 "metadata": {
  "kernelspec": {
   "display_name": "Python 3",
   "language": "python",
   "name": "python3"
  },
  "language_info": {
   "codemirror_mode": {
    "name": "ipython",
    "version": 3
   },
   "file_extension": ".py",
   "mimetype": "text/x-python",
   "name": "python",
   "nbconvert_exporter": "python",
   "pygments_lexer": "ipython3",
   "version": "3.8.3"
  }
 },
 "nbformat": 4,
 "nbformat_minor": 4
}
